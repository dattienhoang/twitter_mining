{
 "cells": [
  {
   "cell_type": "markdown",
   "metadata": {},
   "source": [
    "# Urban Rivalries: Montréal vs. Toronto\n",
    "\n",
    "I have always been interested in cities, how they work, and the cultural dynamics in them. In fact, in college I briefly attempted to be a City and Regional Planning major. My knowledge of Canadian cities have been lacking however. Now that I am dating a Canadian, it’s suddenly important that I understand Canada and its urban cultures.\n",
    "\n",
    "Before our first trip together, my partner was raving about how cool and hip Montréal was. Proponents of Montréal claim that it is Canada’s cultural capital. Meanwhile, some of my friends were telling me that Toronto was the Canadian “it” city. It is after all, more economically significant.\n",
    "\n",
    "As a scientist, I needed quantitative evidence to determine for sure–which city in Canada was the place to be? Toronto? Or Montréal? For a 24h, I mined the Twittersphere for tweets containing the following strings:"
   ]
  },
  {
   "cell_type": "markdown",
   "metadata": {},
   "source": [
    "Searching for tweets relevant to Montréal and Toronto required some linguistic considerations–for example, there is a popular abbreviation for Montréal, MTL, but not for Toronto. There is also different spellings for Montréal (the accent aigu is omitted in English).\n",
    "\n",
    "Comparing tweets between Montréal and Toronto, there is much more talk about Toronto than Montréal (about 61% of tweets were about Toronto out of 81369 tweets). On the surface, it would appear that Toronto is the more significant city."
   ]
  },
  {
   "cell_type": "markdown",
   "metadata": {},
   "source": [
    "Knowing that Montréal is a bilingual city in a Francophone province, the tweets were segregated by language to discern any linguistic affiliations. When Canadian tweets were segregated between Anglophones and Francophones, there is a clear preference–Anglophones are biased towards Toronto (2.5x times as likely to mention Toronto than Montréal) while Francophones were biased towards Montréal (4x times as likely to mention Toronto than Montréal).\n",
    "\n",
    "This data is re-represented in a double triangle graph shown below. Tweets about Toronto and Montréal are represented by blue and red triangles respectively that share the same base. The height (and equivalently, the area of the triangle) is proportional to the total number of tweets for that city. Meanwhile, the location of the triangle’s altitude depends on the proportion of French (or English) tweets (with the part of the base to the left of the altitude corresponding to French tweets). With this visualization, the lingusitic affinity for Francophones to Montréal and Anglophones to Toronto is obvious. Another benefit is that it condenses what would have been many sets of bar graphs with disparate numeric scales."
   ]
  },
  {
   "cell_type": "markdown",
   "metadata": {},
   "source": [
    "Interestingly, this holds true for non-Canadian tweets as well. International Francophones tweet more about Montréal than Toronto (and vice-versa for international Anglophones), but also have a stronger bias to these cities than do Canadians.\n",
    "\n",
    "This urban rivalry has strong linguistic undertones (both from within and outside Canada!), and may not actually be an urban rivalry at all but rather a cultural-linguistic divide.\n",
    "\n",
    "# TL;DR\n",
    "\n",
    "I looked at Twitter to determine which Canadian city is more relevant culturally. Toronto appeared on top, though examining the language of post showed a clear preference based on linguistic affiliation."
   ]
  },
  {
   "cell_type": "code",
   "execution_count": null,
   "metadata": {
    "collapsed": true
   },
   "outputs": [],
   "source": []
  }
 ],
 "metadata": {
  "anaconda-cloud": {},
  "kernelspec": {
   "display_name": "Python [default]",
   "language": "python",
   "name": "python2"
  },
  "language_info": {
   "codemirror_mode": {
    "name": "ipython",
    "version": 2
   },
   "file_extension": ".py",
   "mimetype": "text/x-python",
   "name": "python",
   "nbconvert_exporter": "python",
   "pygments_lexer": "ipython2",
   "version": "2.7.12"
  }
 },
 "nbformat": 4,
 "nbformat_minor": 2
}
